{
 "cells": [
  {
   "cell_type": "markdown",
   "metadata": {},
   "source": [
    "# Fade Trading Analysis\n",
    "\n",
    "Analyze fade trading results from JSON files"
   ]
  },
  {
   "cell_type": "code",
   "execution_count": 3,
   "metadata": {},
   "outputs": [
    {
     "name": "stdout",
     "output_type": "stream",
     "text": [
      "Collecting pandas\n",
      "  Downloading pandas-2.3.2-cp310-cp310-macosx_10_9_x86_64.whl.metadata (91 kB)\n",
      "Collecting numpy\n",
      "  Downloading numpy-2.2.6-cp310-cp310-macosx_14_0_x86_64.whl.metadata (62 kB)\n",
      "Collecting matplotlib\n",
      "  Downloading matplotlib-3.10.6-cp310-cp310-macosx_10_12_x86_64.whl.metadata (11 kB)\n",
      "Collecting seaborn\n",
      "  Downloading seaborn-0.13.2-py3-none-any.whl.metadata (5.4 kB)\n",
      "Requirement already satisfied: python-dateutil>=2.8.2 in /Users/jackrehmann/Library/Python/3.10/lib/python/site-packages (from pandas) (2.9.0.post0)\n",
      "Collecting pytz>=2020.1 (from pandas)\n",
      "  Using cached pytz-2025.2-py2.py3-none-any.whl.metadata (22 kB)\n",
      "Collecting tzdata>=2022.7 (from pandas)\n",
      "  Using cached tzdata-2025.2-py2.py3-none-any.whl.metadata (1.4 kB)\n",
      "Collecting contourpy>=1.0.1 (from matplotlib)\n",
      "  Downloading contourpy-1.3.2-cp310-cp310-macosx_10_9_x86_64.whl.metadata (5.5 kB)\n",
      "Collecting cycler>=0.10 (from matplotlib)\n",
      "  Using cached cycler-0.12.1-py3-none-any.whl.metadata (3.8 kB)\n",
      "Collecting fonttools>=4.22.0 (from matplotlib)\n",
      "  Downloading fonttools-4.60.0-cp310-cp310-macosx_10_9_x86_64.whl.metadata (111 kB)\n",
      "Collecting kiwisolver>=1.3.1 (from matplotlib)\n",
      "  Downloading kiwisolver-1.4.9-cp310-cp310-macosx_10_9_x86_64.whl.metadata (6.3 kB)\n",
      "Requirement already satisfied: packaging>=20.0 in /Users/jackrehmann/Library/Python/3.10/lib/python/site-packages (from matplotlib) (25.0)\n",
      "Collecting pillow>=8 (from matplotlib)\n",
      "  Downloading pillow-11.3.0-cp310-cp310-macosx_10_10_x86_64.whl.metadata (9.0 kB)\n",
      "Collecting pyparsing>=2.3.1 (from matplotlib)\n",
      "  Downloading pyparsing-3.2.4-py3-none-any.whl.metadata (5.0 kB)\n",
      "Requirement already satisfied: six>=1.5 in /Users/jackrehmann/Library/Python/3.10/lib/python/site-packages (from python-dateutil>=2.8.2->pandas) (1.17.0)\n",
      "Downloading pandas-2.3.2-cp310-cp310-macosx_10_9_x86_64.whl (11.5 MB)\n",
      "\u001b[2K   \u001b[90m━━━━━━━━━━━━━━━━━━━━━━━━━━━━━━━━━━━━━━━━\u001b[0m \u001b[32m11.5/11.5 MB\u001b[0m \u001b[31m44.5 MB/s\u001b[0m eta \u001b[36m0:00:00\u001b[0ma \u001b[36m0:00:01\u001b[0m\n",
      "\u001b[?25hDownloading numpy-2.2.6-cp310-cp310-macosx_14_0_x86_64.whl (6.9 MB)\n",
      "\u001b[2K   \u001b[90m━━━━━━━━━━━━━━━━━━━━━━━━━━━━━━━━━━━━━━━━\u001b[0m \u001b[32m6.9/6.9 MB\u001b[0m \u001b[31m52.6 MB/s\u001b[0m eta \u001b[36m0:00:00\u001b[0m\n",
      "\u001b[?25hDownloading matplotlib-3.10.6-cp310-cp310-macosx_10_12_x86_64.whl (8.2 MB)\n",
      "\u001b[2K   \u001b[90m━━━━━━━━━━━━━━━━━━━━━━━━━━━━━━━━━━━━━━━━\u001b[0m \u001b[32m8.2/8.2 MB\u001b[0m \u001b[31m51.8 MB/s\u001b[0m eta \u001b[36m0:00:00\u001b[0m\n",
      "\u001b[?25hDownloading seaborn-0.13.2-py3-none-any.whl (294 kB)\n",
      "Downloading contourpy-1.3.2-cp310-cp310-macosx_10_9_x86_64.whl (268 kB)\n",
      "Using cached cycler-0.12.1-py3-none-any.whl (8.3 kB)\n",
      "Downloading fonttools-4.60.0-cp310-cp310-macosx_10_9_x86_64.whl (2.3 MB)\n",
      "\u001b[2K   \u001b[90m━━━━━━━━━━━━━━━━━━━━━━━━━━━━━━━━━━━━━━━━\u001b[0m \u001b[32m2.3/2.3 MB\u001b[0m \u001b[31m39.0 MB/s\u001b[0m eta \u001b[36m0:00:00\u001b[0m\n",
      "\u001b[?25hDownloading kiwisolver-1.4.9-cp310-cp310-macosx_10_9_x86_64.whl (66 kB)\n",
      "Downloading pillow-11.3.0-cp310-cp310-macosx_10_10_x86_64.whl (5.3 MB)\n",
      "\u001b[2K   \u001b[90m━━━━━━━━━━━━━━━━━━━━━━━━━━━━━━━━━━━━━━━━\u001b[0m \u001b[32m5.3/5.3 MB\u001b[0m \u001b[31m46.2 MB/s\u001b[0m eta \u001b[36m0:00:00\u001b[0m\n",
      "\u001b[?25hDownloading pyparsing-3.2.4-py3-none-any.whl (113 kB)\n",
      "Using cached pytz-2025.2-py2.py3-none-any.whl (509 kB)\n",
      "Using cached tzdata-2025.2-py2.py3-none-any.whl (347 kB)\n",
      "Installing collected packages: pytz, tzdata, pyparsing, pillow, numpy, kiwisolver, fonttools, cycler, pandas, contourpy, matplotlib, seaborn\n",
      "Successfully installed contourpy-1.3.2 cycler-0.12.1 fonttools-4.60.0 kiwisolver-1.4.9 matplotlib-3.10.6 numpy-2.2.6 pandas-2.3.2 pillow-11.3.0 pyparsing-3.2.4 pytz-2025.2 seaborn-0.13.2 tzdata-2025.2\n",
      "\n",
      "\u001b[1m[\u001b[0m\u001b[34;49mnotice\u001b[0m\u001b[1;39;49m]\u001b[0m\u001b[39;49m A new release of pip is available: \u001b[0m\u001b[31;49m24.3.1\u001b[0m\u001b[39;49m -> \u001b[0m\u001b[32;49m25.2\u001b[0m\n",
      "\u001b[1m[\u001b[0m\u001b[34;49mnotice\u001b[0m\u001b[1;39;49m]\u001b[0m\u001b[39;49m To update, run: \u001b[0m\u001b[32;49mpython3.10 -m pip install --upgrade pip\u001b[0m\n"
     ]
    }
   ],
   "source": [
    "import sys\n",
    "!{sys.executable} -m pip install pandas numpy matplotlib seaborn\n",
    "\n",
    "import json\n",
    "import pandas as pd\n",
    "import numpy as np\n",
    "import matplotlib.pyplot as plt\n",
    "import seaborn as sns\n",
    "from datetime import datetime\n",
    "import re\n",
    "\n",
    "# Set up plotting style\n",
    "plt.style.use('default')\n",
    "sns.set_palette(\"husl\")\n",
    "%matplotlib inline"
   ]
  },
  {
   "cell_type": "code",
   "execution_count": 4,
   "metadata": {},
   "outputs": [
    {
     "name": "stdout",
     "output_type": "stream",
     "text": [
      "💾 Saved CSV: results/backtests/live_TSLA_20250918_live-1600_trades.csv\n",
      "📊 Loaded 92 trades from live_trading session\n",
      "   Symbol: TSLA, Date: 20250918\n",
      "   BUY: 57, SELL: 35\n",
      "   Final position: 0 shares\n",
      "\n",
      "📋 DataFrame shape: (92, 21)\n",
      "📋 Available columns: ['timestamp', 'symbol', 'action', 'quantity', 'price', 'reason', 'type', 'date', 'time', 'hour', 'minute', 'second', 'excess_move', 'price_move', 'trade_type', 'position_after', 'position_change', 'trade_value', 'session_type', 'session_symbol', 'session_date']\n"
     ]
    },
    {
     "data": {
      "text/html": [
       "<div>\n",
       "<style scoped>\n",
       "    .dataframe tbody tr th:only-of-type {\n",
       "        vertical-align: middle;\n",
       "    }\n",
       "\n",
       "    .dataframe tbody tr th {\n",
       "        vertical-align: top;\n",
       "    }\n",
       "\n",
       "    .dataframe thead th {\n",
       "        text-align: right;\n",
       "    }\n",
       "</style>\n",
       "<table border=\"1\" class=\"dataframe\">\n",
       "  <thead>\n",
       "    <tr style=\"text-align: right;\">\n",
       "      <th></th>\n",
       "      <th>timestamp</th>\n",
       "      <th>symbol</th>\n",
       "      <th>action</th>\n",
       "      <th>quantity</th>\n",
       "      <th>price</th>\n",
       "      <th>reason</th>\n",
       "      <th>type</th>\n",
       "      <th>date</th>\n",
       "      <th>time</th>\n",
       "      <th>hour</th>\n",
       "      <th>...</th>\n",
       "      <th>second</th>\n",
       "      <th>excess_move</th>\n",
       "      <th>price_move</th>\n",
       "      <th>trade_type</th>\n",
       "      <th>position_after</th>\n",
       "      <th>position_change</th>\n",
       "      <th>trade_value</th>\n",
       "      <th>session_type</th>\n",
       "      <th>session_symbol</th>\n",
       "      <th>session_date</th>\n",
       "    </tr>\n",
       "  </thead>\n",
       "  <tbody>\n",
       "    <tr>\n",
       "      <th>0</th>\n",
       "      <td>2025-09-18 14:57:05.087894</td>\n",
       "      <td>TSLA</td>\n",
       "      <td>SELL</td>\n",
       "      <td>10</td>\n",
       "      <td>424.50</td>\n",
       "      <td>Fade $1.10 move (excess: $0.10)</td>\n",
       "      <td>SIMULATED</td>\n",
       "      <td>2025-09-18</td>\n",
       "      <td>14:57:05.087</td>\n",
       "      <td>14</td>\n",
       "      <td>...</td>\n",
       "      <td>5</td>\n",
       "      <td>0.1</td>\n",
       "      <td>1.10</td>\n",
       "      <td>Fade</td>\n",
       "      <td>-10</td>\n",
       "      <td>-10</td>\n",
       "      <td>4245.0</td>\n",
       "      <td>live_trading</td>\n",
       "      <td>TSLA</td>\n",
       "      <td>20250918</td>\n",
       "    </tr>\n",
       "    <tr>\n",
       "      <th>1</th>\n",
       "      <td>2025-09-18 14:57:06.401037</td>\n",
       "      <td>TSLA</td>\n",
       "      <td>SELL</td>\n",
       "      <td>10</td>\n",
       "      <td>424.60</td>\n",
       "      <td>Fade $1.20 move (excess: $0.20)</td>\n",
       "      <td>SIMULATED</td>\n",
       "      <td>2025-09-18</td>\n",
       "      <td>14:57:06.401</td>\n",
       "      <td>14</td>\n",
       "      <td>...</td>\n",
       "      <td>6</td>\n",
       "      <td>0.2</td>\n",
       "      <td>1.20</td>\n",
       "      <td>Fade</td>\n",
       "      <td>-20</td>\n",
       "      <td>-10</td>\n",
       "      <td>4246.0</td>\n",
       "      <td>live_trading</td>\n",
       "      <td>TSLA</td>\n",
       "      <td>20250918</td>\n",
       "    </tr>\n",
       "    <tr>\n",
       "      <th>2</th>\n",
       "      <td>2025-09-18 14:57:17.152938</td>\n",
       "      <td>TSLA</td>\n",
       "      <td>SELL</td>\n",
       "      <td>10</td>\n",
       "      <td>424.70</td>\n",
       "      <td>Fade $1.30 move (excess: $0.30)</td>\n",
       "      <td>SIMULATED</td>\n",
       "      <td>2025-09-18</td>\n",
       "      <td>14:57:17.152</td>\n",
       "      <td>14</td>\n",
       "      <td>...</td>\n",
       "      <td>17</td>\n",
       "      <td>0.3</td>\n",
       "      <td>1.30</td>\n",
       "      <td>Fade</td>\n",
       "      <td>-30</td>\n",
       "      <td>-10</td>\n",
       "      <td>4247.0</td>\n",
       "      <td>live_trading</td>\n",
       "      <td>TSLA</td>\n",
       "      <td>20250918</td>\n",
       "    </tr>\n",
       "    <tr>\n",
       "      <th>3</th>\n",
       "      <td>2025-09-18 15:00:25.368937</td>\n",
       "      <td>TSLA</td>\n",
       "      <td>BUY</td>\n",
       "      <td>10</td>\n",
       "      <td>424.17</td>\n",
       "      <td>Fade $0.66 move (excess: $0.00)</td>\n",
       "      <td>SIMULATED</td>\n",
       "      <td>2025-09-18</td>\n",
       "      <td>15:00:25.368</td>\n",
       "      <td>15</td>\n",
       "      <td>...</td>\n",
       "      <td>25</td>\n",
       "      <td>0.0</td>\n",
       "      <td>0.66</td>\n",
       "      <td>Fade</td>\n",
       "      <td>-20</td>\n",
       "      <td>10</td>\n",
       "      <td>4241.7</td>\n",
       "      <td>live_trading</td>\n",
       "      <td>TSLA</td>\n",
       "      <td>20250918</td>\n",
       "    </tr>\n",
       "    <tr>\n",
       "      <th>4</th>\n",
       "      <td>2025-09-18 15:00:31.052590</td>\n",
       "      <td>TSLA</td>\n",
       "      <td>BUY</td>\n",
       "      <td>10</td>\n",
       "      <td>423.88</td>\n",
       "      <td>Fade $-0.90 move (excess: $0.00)</td>\n",
       "      <td>SIMULATED</td>\n",
       "      <td>2025-09-18</td>\n",
       "      <td>15:00:31.052</td>\n",
       "      <td>15</td>\n",
       "      <td>...</td>\n",
       "      <td>31</td>\n",
       "      <td>0.0</td>\n",
       "      <td>-0.90</td>\n",
       "      <td>Fade</td>\n",
       "      <td>-10</td>\n",
       "      <td>10</td>\n",
       "      <td>4238.8</td>\n",
       "      <td>live_trading</td>\n",
       "      <td>TSLA</td>\n",
       "      <td>20250918</td>\n",
       "    </tr>\n",
       "  </tbody>\n",
       "</table>\n",
       "<p>5 rows × 21 columns</p>\n",
       "</div>"
      ],
      "text/plain": [
       "                   timestamp symbol action  quantity   price  \\\n",
       "0 2025-09-18 14:57:05.087894   TSLA   SELL        10  424.50   \n",
       "1 2025-09-18 14:57:06.401037   TSLA   SELL        10  424.60   \n",
       "2 2025-09-18 14:57:17.152938   TSLA   SELL        10  424.70   \n",
       "3 2025-09-18 15:00:25.368937   TSLA    BUY        10  424.17   \n",
       "4 2025-09-18 15:00:31.052590   TSLA    BUY        10  423.88   \n",
       "\n",
       "                             reason       type        date          time  \\\n",
       "0   Fade $1.10 move (excess: $0.10)  SIMULATED  2025-09-18  14:57:05.087   \n",
       "1   Fade $1.20 move (excess: $0.20)  SIMULATED  2025-09-18  14:57:06.401   \n",
       "2   Fade $1.30 move (excess: $0.30)  SIMULATED  2025-09-18  14:57:17.152   \n",
       "3   Fade $0.66 move (excess: $0.00)  SIMULATED  2025-09-18  15:00:25.368   \n",
       "4  Fade $-0.90 move (excess: $0.00)  SIMULATED  2025-09-18  15:00:31.052   \n",
       "\n",
       "   hour  ...  second  excess_move  price_move  trade_type position_after  \\\n",
       "0    14  ...       5          0.1        1.10        Fade            -10   \n",
       "1    14  ...       6          0.2        1.20        Fade            -20   \n",
       "2    14  ...      17          0.3        1.30        Fade            -30   \n",
       "3    15  ...      25          0.0        0.66        Fade            -20   \n",
       "4    15  ...      31          0.0       -0.90        Fade            -10   \n",
       "\n",
       "   position_change  trade_value  session_type session_symbol session_date  \n",
       "0              -10       4245.0  live_trading           TSLA     20250918  \n",
       "1              -10       4246.0  live_trading           TSLA     20250918  \n",
       "2              -10       4247.0  live_trading           TSLA     20250918  \n",
       "3               10       4241.7  live_trading           TSLA     20250918  \n",
       "4               10       4238.8  live_trading           TSLA     20250918  \n",
       "\n",
       "[5 rows x 21 columns]"
      ]
     },
     "execution_count": 4,
     "metadata": {},
     "output_type": "execute_result"
    }
   ],
   "source": [
    "def json_to_dataframe(json_file, save_csv=True):\n",
    "    \"\"\"Load JSON trading data and convert to DataFrame with full analysis columns\"\"\"\n",
    "\n",
    "    def extract_excess_move(reason):\n",
    "        \"\"\"Extract excess move amount from reason string\"\"\"\n",
    "        match = re.search(r'excess: \\$([0-9.-]+)', reason)\n",
    "        return float(match.group(1)) if match else 0.0\n",
    "\n",
    "    def extract_price_move(reason):\n",
    "        \"\"\"Extract price move amount from reason string\"\"\"\n",
    "        if 'Fade' in reason or 'Reduce' in reason:\n",
    "            match = re.search(r'(Fade|Reduce) \\$([0-9.-]+)', reason)\n",
    "            return float(match.group(2)) if match else 0.0\n",
    "        return 0.0\n",
    "\n",
    "    def get_trade_type(reason):\n",
    "        \"\"\"Determine if trade is fade, reduce, or flatten\"\"\"\n",
    "        if 'Fade' in reason:\n",
    "            return 'Fade'\n",
    "        elif 'Reduce' in reason:\n",
    "            return 'Reduce'\n",
    "        elif 'flatten' in reason:\n",
    "            return 'Flatten'\n",
    "        else:\n",
    "            return 'Other'\n",
    "\n",
    "    # Load JSON data\n",
    "    with open(json_file, 'r') as f:\n",
    "        data = json.load(f)\n",
    "\n",
    "    # Extract session info\n",
    "    if 'backtest_info' in data:\n",
    "        session_info = data['backtest_info']\n",
    "        session_type = 'backtest'\n",
    "    elif 'session_info' in data:\n",
    "        session_info = data['session_info']\n",
    "        session_type = session_info.get('session_type', 'live_trading')\n",
    "    else:\n",
    "        raise ValueError(\"Invalid file format\")\n",
    "\n",
    "    # Convert trades to DataFrame\n",
    "    df = pd.DataFrame(data['trades'])\n",
    "\n",
    "    if df.empty:\n",
    "        print(\"No trades found!\")\n",
    "        return df, session_info, session_type\n",
    "\n",
    "    # Process timestamps\n",
    "    df['timestamp'] = pd.to_datetime(df['timestamp'])\n",
    "    df['date'] = df['timestamp'].dt.date\n",
    "    df['time'] = df['timestamp'].dt.strftime('%H:%M:%S.%f').str[:-3]  # Include milliseconds\n",
    "    df['hour'] = df['timestamp'].dt.hour\n",
    "    df['minute'] = df['timestamp'].dt.minute\n",
    "    df['second'] = df['timestamp'].dt.second\n",
    "\n",
    "    # Extract additional fields from reason\n",
    "    df['excess_move'] = df['reason'].apply(extract_excess_move)\n",
    "    df['price_move'] = df['reason'].apply(extract_price_move)\n",
    "    df['trade_type'] = df['reason'].apply(get_trade_type)\n",
    "\n",
    "    # Calculate running position\n",
    "    df['position_after'] = 0\n",
    "    position = 0\n",
    "    for i, row in df.iterrows():\n",
    "        if row['action'] == 'BUY':\n",
    "            position += row['quantity']\n",
    "        else:  # SELL\n",
    "            position -= row['quantity']\n",
    "        df.loc[i, 'position_after'] = position\n",
    "\n",
    "    # Add position change\n",
    "    df['position_change'] = df['quantity'] * df['action'].map({'BUY': 1, 'SELL': -1})\n",
    "\n",
    "    # Calculate trade value\n",
    "    df['trade_value'] = df['quantity'] * df['price']\n",
    "\n",
    "    # Add session info columns\n",
    "    df['session_type'] = session_type\n",
    "    df['session_symbol'] = session_info.get('symbol', session_info.get('symbols', ['UNKNOWN'])[0])\n",
    "    df['session_date'] = session_info.get('date', 'UNKNOWN')\n",
    "\n",
    "    # Save to CSV if requested\n",
    "    if save_csv:\n",
    "        csv_file = json_file.replace('.json', '_trades.csv')\n",
    "        df.to_csv(csv_file, index=False)\n",
    "        print(f\"💾 Saved CSV: {csv_file}\")\n",
    "\n",
    "    print(f\"📊 Loaded {len(df)} trades from {session_type} session\")\n",
    "    print(f\"   Symbol: {df['session_symbol'].iloc[0]}, Date: {df['session_date'].iloc[0]}\")\n",
    "    print(f\"   BUY: {len(df[df['action'] == 'BUY'])}, SELL: {len(df[df['action'] == 'SELL'])}\")\n",
    "    print(f\"   Final position: {df['position_after'].iloc[-1]} shares\")\n",
    "\n",
    "    return df, session_info, session_type\n",
    "\n",
    "# 🔥 LOAD YOUR DATA HERE - Just change the filename! 🔥\n",
    "json_file = 'results/backtests/live_TSLA_20250918_live-1600.json'\n",
    "df, session_info, session_type = json_to_dataframe(json_file, save_csv=True)\n",
    "\n",
    "print(f\"\\n📋 DataFrame shape: {df.shape}\")\n",
    "print(f\"📋 Available columns: {list(df.columns)}\")\n",
    "df.head()"
   ]
  },
  {
   "cell_type": "code",
   "execution_count": 6,
   "metadata": {},
   "outputs": [
    {
     "data": {
      "text/plain": [
       "np.int64(0)"
      ]
     },
     "execution_count": 6,
     "metadata": {},
     "output_type": "execute_result"
    }
   ],
   "source": [
    "df['position_change'].sum()"
   ]
  },
  {
   "cell_type": "code",
   "execution_count": 8,
   "metadata": {},
   "outputs": [
    {
     "data": {
      "text/plain": [
       "np.float64(145.36999999998807)"
      ]
     },
     "execution_count": 8,
     "metadata": {},
     "output_type": "execute_result"
    }
   ],
   "source": [
    "(df['position_change'] * df['price'] * -1).sum()"
   ]
  },
  {
   "cell_type": "code",
   "execution_count": 31,
   "metadata": {},
   "outputs": [],
   "source": [
    "def _get_total_pnl(df):\n",
    "    final_execution = df['position_change'].sum() * df['price'].iloc[-1]\n",
    "    pre_execution = (df['position_change'] * df['price'] * -1).sum()\n",
    "    #print(f\"Final execution: {final_execution}\")\n",
    "    #print(f\"Pre-execution: {pre_execution}\")\n",
    "\n",
    "    pnl = pre_execution + final_execution\n",
    "    return pnl"
   ]
  },
  {
   "cell_type": "code",
   "execution_count": 32,
   "metadata": {},
   "outputs": [],
   "source": [
    "i = 1"
   ]
  },
  {
   "cell_type": "code",
   "execution_count": 33,
   "metadata": {},
   "outputs": [
    {
     "data": {
      "text/plain": [
       "np.float64(-1.0)"
      ]
     },
     "execution_count": 33,
     "metadata": {},
     "output_type": "execute_result"
    }
   ],
   "source": [
    "_get_total_pnl(df.iloc[:i+1])"
   ]
  },
  {
   "cell_type": "code",
   "execution_count": null,
   "metadata": {},
   "outputs": [],
   "source": []
  },
  {
   "cell_type": "code",
   "execution_count": 38,
   "metadata": {},
   "outputs": [],
   "source": [
    "df['cumulative_pnl'] = df.apply(lambda x: _get_total_pnl(df.iloc[:x.name+1]), axis=1)"
   ]
  },
  {
   "cell_type": "code",
   "execution_count": 40,
   "metadata": {},
   "outputs": [
    {
     "data": {
      "text/plain": [
       "<Axes: xlabel='timestamp'>"
      ]
     },
     "execution_count": 40,
     "metadata": {},
     "output_type": "execute_result"
    },
    {
     "data": {
      "image/png": "[encoded data removed]",
      "text/plain": [
       "<Figure size 640x480 with 1 Axes>"
      ]
     },
     "metadata": {},
     "output_type": "display_data"
    }
   ],
   "source": [
    "df.set_index(\"timestamp\").cumulative_pnl.plot()"
   ]
  },
  {
   "cell_type": "code",
   "execution_count": null,
   "metadata": {},
   "outputs": [],
   "source": []
  },
  {
   "cell_type": "code",
   "execution_count": null,
   "metadata": {},
   "outputs": [],
   "source": []
  }
 ],
 "metadata": {
  "kernelspec": {
   "display_name": "Python 3",
   "language": "python",
   "name": "python3"
  },
  "language_info": {
   "codemirror_mode": {
    "name": "ipython",
    "version": 3
   },
   "file_extension": ".py",
   "mimetype": "text/x-python",
   "name": "python",
   "nbconvert_exporter": "python",
   "pygments_lexer": "ipython3",
   "version": "3.10.16"
  }
 },
 "nbformat": 4,
 "nbformat_minor": 4
}
